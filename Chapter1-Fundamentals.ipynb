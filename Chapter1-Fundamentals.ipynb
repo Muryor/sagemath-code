{
 "cells": [
  {
   "cell_type": "markdown",
   "metadata": {},
   "source": [
    "*A Course in Cryptography* by Heiko Knospe, American Mathematical Society, Pure and Applied Undergraduate Texts 40"
   ]
  },
  {
   "cell_type": "markdown",
   "metadata": {},
   "source": [
    "## Code examples of Chapter 1 - Fundamentals"
   ]
  },
  {
   "cell_type": "markdown",
   "metadata": {},
   "source": [
    "This SageMath notebook by Heiko Knospe is licensed under a <a rel=\"license\" href=\"http://creativecommons.org/licenses/by/4.0/\">Creative Commons Attribution 4.0 International License</a>."
   ]
  },
  {
   "cell_type": "markdown",
   "metadata": {},
   "source": [
    "Download SageMath from http://www.sagemath.org/download."
   ]
  },
  {
   "cell_type": "markdown",
   "metadata": {},
   "source": [
    "SageMath can work with large integers."
   ]
  },
  {
   "cell_type": "code",
   "execution_count": 1,
   "metadata": {},
   "outputs": [
    {
     "data": {
      "text/plain": [
       "340282366920938463463374607431768211456"
      ]
     },
     "execution_count": 1,
     "metadata": {},
     "output_type": "execute_result"
    }
   ],
   "source": [
    "2^128"
   ]
  },
  {
   "cell_type": "markdown",
   "metadata": {},
   "source": [
    "Computing a residue class."
   ]
  },
  {
   "cell_type": "code",
   "execution_count": 2,
   "metadata": {},
   "outputs": [
    {
     "data": {
      "text/plain": [
       "6"
      ]
     },
     "execution_count": 2,
     "metadata": {},
     "output_type": "execute_result"
    }
   ],
   "source": [
    "mod(-892342322327,11)"
   ]
  },
  {
   "cell_type": "markdown",
   "metadata": {},
   "source": [
    "Algebraic normal form of a Boolean Function."
   ]
  },
  {
   "cell_type": "code",
   "execution_count": 3,
   "metadata": {},
   "outputs": [
    {
     "data": {
      "text/plain": [
       "x0*x1 + x1 + 1"
      ]
     },
     "execution_count": 3,
     "metadata": {},
     "output_type": "execute_result"
    }
   ],
   "source": [
    "from sage.crypto.boolean_function import BooleanFunction\n",
    "B=BooleanFunction([1,1,0,1]) # Boolean function defined by f(00)=1, f(01)=1, f(10)=0, f(11)=1\n",
    "B.algebraic_normal_form()"
   ]
  },
  {
   "cell_type": "markdown",
   "metadata": {},
   "source": [
    "Print the binomials $\\binom{15}{n}$."
   ]
  },
  {
   "cell_type": "code",
   "execution_count": 4,
   "metadata": {},
   "outputs": [
    {
     "name": "stdout",
     "output_type": "stream",
     "text": [
      "1\n",
      "15\n",
      "105\n",
      "455\n",
      "1365\n",
      "3003\n",
      "5005\n",
      "6435\n",
      "6435\n",
      "5005\n",
      "3003\n",
      "1365\n",
      "455\n",
      "105\n",
      "15\n",
      "1\n"
     ]
    }
   ],
   "source": [
    "for n in range(0,16):\n",
    "\tprint(binomial(15,n))"
   ]
  },
  {
   "cell_type": "markdown",
   "metadata": {},
   "source": [
    "Compute the probability that no collision occurs if $k$ samples are drawn from a set of $n$ elements."
   ]
  },
  {
   "cell_type": "code",
   "execution_count": 5,
   "metadata": {},
   "outputs": [],
   "source": [
    "def birthday(k,n):\n",
    "    p=1\n",
    "    for i in range(1,k):\n",
    "        p=p*(1-i/n)\n",
    "    print(1-RR(p))"
   ]
  },
  {
   "cell_type": "markdown",
   "metadata": {},
   "source": [
    "The probability of a birthday collision for $23$ people is around $50\\%$. "
   ]
  },
  {
   "cell_type": "code",
   "execution_count": 6,
   "metadata": {},
   "outputs": [
    {
     "name": "stdout",
     "output_type": "stream",
     "text": [
      "0.507297234323985\n"
     ]
    }
   ],
   "source": [
    "birthday(23,365)"
   ]
  },
  {
   "cell_type": "markdown",
   "metadata": {},
   "source": [
    "Find a collision in the output of the recursion $x_{i}=f(x_{i-1})$ where $f(x)=x^2+26 \\mod 107$ and $x_0=1$. Use Floyd's cycle finding algorithm."
   ]
  },
  {
   "cell_type": "code",
   "execution_count": 7,
   "metadata": {},
   "outputs": [
    {
     "name": "stdout",
     "output_type": "stream",
     "text": [
      "k =  9, x = 39\n"
     ]
    }
   ],
   "source": [
    "def f(x):\n",
    "    return(x*x+26)    \n",
    "x=mod(1,107); y=mod(1,107)\n",
    "x=f(x)\n",
    "y=f(f(y))\n",
    "k=1\n",
    "while x!=y:    \n",
    "    x=f(x)\n",
    "    y=f(f(y)) \n",
    "    k=k+1\n",
    "print(\"k ={:3}, x = {}\".format(k,x))"
   ]
  },
  {
   "cell_type": "markdown",
   "metadata": {},
   "source": [
    "Check the collision and print $x_1, x_2, \\dots$. We see that $x_9=39$ and $x_{18}=39$."
   ]
  },
  {
   "cell_type": "code",
   "execution_count": 8,
   "metadata": {},
   "outputs": [
    {
     "name": "stdout",
     "output_type": "stream",
     "text": [
      "27\n",
      "6\n",
      "62\n",
      "18\n",
      "29\n",
      "11\n",
      "40\n",
      "21\n",
      "39\n",
      "49\n",
      "73\n",
      "5\n",
      "51\n",
      "59\n",
      "83\n",
      "67\n",
      "21\n",
      "39\n"
     ]
    }
   ],
   "source": [
    "x=mod(1,107)\n",
    "for i in range(18):\n",
    "    x=f(x)\n",
    "    print(\"{}\".format(x)),"
   ]
  },
  {
   "cell_type": "markdown",
   "metadata": {},
   "source": [
    "Exercise 9."
   ]
  },
  {
   "cell_type": "code",
   "execution_count": 9,
   "metadata": {},
   "outputs": [
    {
     "data": {
      "text/plain": [
       "x0*x1*x2 + x0*x1 + x1*x2 + x2 + 1"
      ]
     },
     "execution_count": 9,
     "metadata": {},
     "output_type": "execute_result"
    }
   ],
   "source": [
    "from sage.crypto.boolean_function import BooleanFunction\n",
    "BooleanFunction([1,1,1,0,0,0,1,1]).algebraic_normal_form()"
   ]
  },
  {
   "cell_type": "markdown",
   "metadata": {},
   "source": [
    "Exercise 15."
   ]
  },
  {
   "cell_type": "code",
   "execution_count": 10,
   "metadata": {},
   "outputs": [
    {
     "name": "stdout",
     "output_type": "stream",
     "text": [
      "k = 184, x = 22604\n"
     ]
    }
   ],
   "source": [
    "def f(x):\n",
    "    return(x*x+1)    \n",
    "x=mod(1,56807); y=mod(1,56807)\n",
    "x=f(x)\n",
    "y=f(f(y))\n",
    "k=1\n",
    "while x!=y:    \n",
    "    x=f(x)\n",
    "    y=f(f(y)) \n",
    "    k=k+1\n",
    "print(\"k ={:4}, x = {}\".format(k,x))"
   ]
  },
  {
   "cell_type": "markdown",
   "metadata": {},
   "source": [
    "$184$ is a period. Now we compute the least period."
   ]
  },
  {
   "cell_type": "code",
   "execution_count": 11,
   "metadata": {},
   "outputs": [
    {
     "name": "stdout",
     "output_type": "stream",
     "text": [
      "period = 46\n"
     ]
    }
   ],
   "source": [
    "x0=mod(22604,56807)\n",
    "x=f(x0)\n",
    "k=1\n",
    "while x!=x0:\n",
    "    x=f(x)\n",
    "    k=k+1\n",
    "print(\"period ={:3}\".format(k))    "
   ]
  },
  {
   "cell_type": "code",
   "execution_count": null,
   "metadata": {},
   "outputs": [],
   "source": []
  }
 ],
 "metadata": {
  "kernelspec": {
   "display_name": "SageMath 9.0",
   "language": "sage",
   "name": "sagemath"
  },
  "language_info": {
   "codemirror_mode": {
    "name": "ipython",
    "version": 3
   },
   "file_extension": ".py",
   "mimetype": "text/x-python",
   "name": "python",
   "nbconvert_exporter": "python",
   "pygments_lexer": "ipython3",
   "version": "3.7.3"
  }
 },
 "nbformat": 4,
 "nbformat_minor": 2
}
