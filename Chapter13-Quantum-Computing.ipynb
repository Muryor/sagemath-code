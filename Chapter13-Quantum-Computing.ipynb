{
 "cells": [
  {
   "cell_type": "markdown",
   "metadata": {},
   "source": [
    "*A Course in Cryptography* by Heiko Knospe, American Mathematical Society, Pure and Applied Undergraduate Texts 40"
   ]
  },
  {
   "cell_type": "markdown",
   "metadata": {},
   "source": [
    "## Code examples of Chapter 13 - Quantum Computing"
   ]
  },
  {
   "cell_type": "markdown",
   "metadata": {},
   "source": [
    "This SageMath notebook by Heiko Knospe is licensed under a <a rel=\"license\" href=\"http://creativecommons.org/licenses/by/4.0/\">Creative Commons Attribution 4.0 International License</a>."
   ]
  },
  {
   "cell_type": "markdown",
   "metadata": {},
   "source": [
    "Download SageMath from http://www.sagemath.org/download."
   ]
  },
  {
   "cell_type": "markdown",
   "metadata": {},
   "source": [
    "### Example 13.13: Discrete Fourier Transform."
   ]
  },
  {
   "cell_type": "code",
   "execution_count": 1,
   "metadata": {},
   "outputs": [],
   "source": [
    "def myDFT(a):\n",
    "    n=a.length()\n",
    "    y=vector(CC,n)\n",
    "    for k in range(n):\n",
    "        sum=0\n",
    "        for x in range(n):\n",
    "            sum += a[x]*exp(-2*pi*I*x*k/n)\n",
    "        y[k]=sum/sqrt(n)    \n",
    "    return(y)    "
   ]
  },
  {
   "cell_type": "code",
   "execution_count": 2,
   "metadata": {},
   "outputs": [
    {
     "name": "stdout",
     "output_type": "stream",
     "text": [
      "(3.00000000000000, 0.000000000000000, -1.00000000000000, 0.000000000000000)\n"
     ]
    }
   ],
   "source": [
    "a=vector([1,2,1,2]); y=myDFT(a); print(y) # compute the unitary DFT"
   ]
  },
  {
   "cell_type": "markdown",
   "metadata": {},
   "source": [
    "Inverse Discrete Fourier Transform."
   ]
  },
  {
   "cell_type": "code",
   "execution_count": 3,
   "metadata": {},
   "outputs": [],
   "source": [
    "def myIDFT(y):\n",
    "    n=y.length()\n",
    "    a=vector(CC,n)\n",
    "    for k in range(n):\n",
    "        sum=0\n",
    "        for x in range(n):\n",
    "            sum += y[x]*exp(-2*pi*I*x*k/n)\n",
    "        a[k]=sum/sqrt(n)    \n",
    "    return(a)    "
   ]
  },
  {
   "cell_type": "code",
   "execution_count": 4,
   "metadata": {},
   "outputs": [
    {
     "data": {
      "text/plain": [
       "(1.00000000000000, 2.00000000000000, 1.00000000000000, 2.00000000000000)"
      ]
     },
     "execution_count": 4,
     "metadata": {},
     "output_type": "execute_result"
    }
   ],
   "source": [
    "myIDFT(y) # IDFT recovers a"
   ]
  },
  {
   "cell_type": "markdown",
   "metadata": {},
   "source": [
    "### Example 13.14: Shor's algorithm factorizes $n$ using the multiplicative order of $a$ mod $n$. "
   ]
  },
  {
   "cell_type": "code",
   "execution_count": 5,
   "metadata": {},
   "outputs": [],
   "source": [
    "n=77; a=3"
   ]
  },
  {
   "cell_type": "markdown",
   "metadata": {},
   "source": [
    "Suppose we know already the order $r$ of $a$ mod $n$."
   ]
  },
  {
   "cell_type": "code",
   "execution_count": 6,
   "metadata": {},
   "outputs": [
    {
     "name": "stdout",
     "output_type": "stream",
     "text": [
      "30\n"
     ]
    }
   ],
   "source": [
    "r = mod(a,n).multiplicative_order(); print(r)"
   ]
  },
  {
   "cell_type": "markdown",
   "metadata": {},
   "source": [
    "$r$ is even. $a^{r/2}+1$ mod $n$ gives a number that is divisible by one of the unkown factors of $n$, but not by $n$."
   ]
  },
  {
   "cell_type": "code",
   "execution_count": 7,
   "metadata": {},
   "outputs": [
    {
     "data": {
      "text/plain": [
       "35"
      ]
     },
     "execution_count": 7,
     "metadata": {},
     "output_type": "execute_result"
    }
   ],
   "source": [
    "mod(power_mod(a,r//2,n)+1,n)"
   ]
  },
  {
   "cell_type": "code",
   "execution_count": 8,
   "metadata": {},
   "outputs": [
    {
     "data": {
      "text/plain": [
       "7"
      ]
     },
     "execution_count": 8,
     "metadata": {},
     "output_type": "execute_result"
    }
   ],
   "source": [
    "gcd(35,n)"
   ]
  },
  {
   "cell_type": "markdown",
   "metadata": {},
   "source": [
    "### Example 13.16: Shor's algorithm - find the multiplicative order of $a$ mod $n$."
   ]
  },
  {
   "cell_type": "code",
   "execution_count": 9,
   "metadata": {},
   "outputs": [
    {
     "name": "stdout",
     "output_type": "stream",
     "text": [
      "8192\n"
     ]
    }
   ],
   "source": [
    "s=13;N=2^s;print(N) # choose N"
   ]
  },
  {
   "cell_type": "markdown",
   "metadata": {},
   "source": [
    "Look at the terms of $|\\psi\\rangle$ with second register $u=59$. "
   ]
  },
  {
   "cell_type": "code",
   "execution_count": 10,
   "metadata": {},
   "outputs": [],
   "source": [
    "n=77;a=3\n",
    "u=59                                   # second register, a random value u=a^x mod n\n",
    "list = []\n",
    "for x in range(N):\n",
    "    y = power_mod(a,x,n)\n",
    "    if (y==u):\n",
    "        list.append(x)"
   ]
  },
  {
   "cell_type": "markdown",
   "metadata": {},
   "source": [
    "Print some terms of the state $|\\psi\\rangle$. The period $r=30$ can be seen here. However, the quantum state is not accessible to an observer!"
   ]
  },
  {
   "cell_type": "code",
   "execution_count": 11,
   "metadata": {},
   "outputs": [
    {
     "name": "stdout",
     "output_type": "stream",
     "text": [
      "19 59\n",
      "49 59\n",
      "79 59\n",
      "109 59\n",
      "139 59\n",
      "169 59\n",
      "199 59\n",
      "7999 59\n",
      "8029 59\n",
      "8059 59\n",
      "8089 59\n",
      "8119 59\n",
      "8149 59\n",
      "8179 59\n"
     ]
    }
   ],
   "source": [
    "for x in list:    \n",
    "    if (x<200 or x>N-200):  # print some terms\n",
    "        print(x,u)"
   ]
  },
  {
   "cell_type": "markdown",
   "metadata": {},
   "source": [
    "QFT of the first register of $\\psi$. The second register is $u=59$."
   ]
  },
  {
   "cell_type": "code",
   "execution_count": 12,
   "metadata": {},
   "outputs": [
    {
     "name": "stdout",
     "output_type": "stream",
     "text": [
      "................................................................................................................................................................................................................................................................................................................................................................................................................................................................................................................................................................................................................................................................................................................................................................................................................................................................................................................................................................................................................................................................................................................................................................................................................................................................................................................................................................................................................................................................................................................................................................................................................................................................................................................................................................................................................................................................................................................................................................................................................................................................................................................................................................................................................................................................................................................................................................................................................................................................................................................................................................................................................................................................................................................................................................................................................................................................................................................................................................................................................................................................................................................................................................................................................................................................................................................................................................................................................................................................................................................................................................................................................................................................................................................................................................................................................................................................................................................................................................................................................................................................................................................................................................................................................................................................................................................................................................................................................................................................................................................................................................................................................................................................................................................................................................................................................................................................................................................................................................................................................................................................................................................................................................................................................................................................................................................................................................................................................................................................................................................................................................................................................................................................................................................................................................................................................................................................................................................................................................................................................................................................................................................................................................................................................................................................................................................................................................................................................................................................................................................................................................................................................................................................................................................................................................................................................................................................................................................................................................................................................................................................................................................................................................................................................................................................................................................................................................................................................................................................................................................................................................................................................................................................................................................................................................................................................................................................................................................................................................................................................................................................................................................................................................................................................................................................................................................................................................................................................................................................................................................................"
     ]
    }
   ],
   "source": [
    "# Computation of the QFT\n",
    "# Inefficient on non-quantum machines. This example may take more than 60 minutes to complete! \n",
    "# You may skip this and continue with the next but one cell.\n",
    "y=vector(CC,N)\n",
    "for k in range(N):\n",
    "    sum = 0\n",
    "    print(\".\",end=\"\")\n",
    "    for x in list:\n",
    "        sum += exp(2*pi*I*x*k/N)\n",
    "    y[k] = sum/N    "
   ]
  },
  {
   "cell_type": "code",
   "execution_count": 20,
   "metadata": {},
   "outputs": [
    {
     "data": {
      "image/png": "[encoded data removed]",
      "text/plain": [
       "Graphics object consisting of 1 graphics primitive"
      ]
     },
     "execution_count": 20,
     "metadata": {},
     "output_type": "execute_result"
    }
   ],
   "source": [
    "# Plot the coefficients\n",
    "# requires QFT values from the previous cell\n",
    "yabs=vector(RR,N)\n",
    "for k in range(N):\n",
    "    yabs[k]= abs(y[k])\n",
    "list_plot(yabs, axes_labels=['$k$','$|y_k|$'])    "
   ]
  },
  {
   "cell_type": "code",
   "execution_count": 21,
   "metadata": {},
   "outputs": [],
   "source": [
    "# Compute only a few coefficients\n",
    "ys=vector(CC,N)\n",
    "for k in range(260,280):\n",
    "    sum = 0\n",
    "    for x in list:\n",
    "        sum += exp(2*pi*I*x*k/N)\n",
    "    ys[k] = sum/N   "
   ]
  },
  {
   "cell_type": "markdown",
   "metadata": {},
   "source": [
    "Print absolute absolute values of the coefficients $y_k$. See the peak at $k=273$. Note that $|y_k|^2$ is the probability that $|k,59\\rangle$ is measured. "
   ]
  },
  {
   "cell_type": "code",
   "execution_count": 22,
   "metadata": {},
   "outputs": [
    {
     "name": "stdout",
     "output_type": "stream",
     "text": [
      "260 0.000161466364210936\n",
      "261 0.000175413634720059\n",
      "262 0.000191889138720544\n",
      "263 0.000211646409124348\n",
      "264 0.000235771421437241\n",
      "265 0.000265888653247692\n",
      "266 0.000304542099889304\n",
      "267 0.000355953118780780\n",
      "268 0.000427675721009852\n",
      "269 0.000534694096404268\n",
      "270 0.000711537035485720\n",
      "271 0.00105956325386752\n",
      "272 0.00206022666640847\n",
      "273 0.0330822163350021\n",
      "274 0.00237158896231586\n",
      "275 0.00114909413534390\n",
      "276 0.000760151950291728\n",
      "277 0.000569002195443964\n",
      "278 0.000455365915613345\n",
      "279 0.000380051094900082\n"
     ]
    }
   ],
   "source": [
    "for k in range(260,280):\n",
    "    print(k,abs(ys[k]))"
   ]
  },
  {
   "cell_type": "markdown",
   "metadata": {},
   "source": [
    "Another peak is (for example) at $k=7100$."
   ]
  },
  {
   "cell_type": "code",
   "execution_count": 23,
   "metadata": {},
   "outputs": [],
   "source": [
    "for k in range(7090,7110):\n",
    "    sum = 0\n",
    "    for x in list:\n",
    "        sum += exp(2*pi*I*x*k/N)\n",
    "    ys[k] = sum/N   "
   ]
  },
  {
   "cell_type": "code",
   "execution_count": 24,
   "metadata": {},
   "outputs": [
    {
     "name": "stdout",
     "output_type": "stream",
     "text": [
      "7090 0.000817233595234757\n",
      "7091 0.000909819069547199\n",
      "7092 0.00102639457613359\n",
      "7093 0.00117764855784173\n",
      "7094 0.00138172652214868\n",
      "7095 0.00167210822199517\n",
      "7096 0.00211814459159612\n",
      "7097 0.00289067576081194\n",
      "7098 0.00455478835010248\n",
      "7099 0.0107578597241784\n",
      "7100 0.0295633934617312\n",
      "7101 0.00621978088209618\n",
      "7102 0.00347362457845736\n",
      "7103 0.00240889309137978\n",
      "7104 0.00184333446936380\n",
      "7105 0.00149260964736831\n",
      "7106 0.00125387259057245\n",
      "7107 0.00108088976897914\n",
      "7108 0.000949798723036790\n",
      "7109 0.000847037342172864\n"
     ]
    }
   ],
   "source": [
    "for k in range(7090,7110):\n",
    "    print(k,abs(ys[k]))"
   ]
  },
  {
   "cell_type": "markdown",
   "metadata": {},
   "source": [
    "$k$ is an approximate multiple of $\\frac{N}{r}$, i.e., $\\frac{k}{N} \\approx \\frac{j}{r}$. Use the continued fraction representation of $\\frac{k}{N}$ to find $r$."
   ]
  },
  {
   "cell_type": "code",
   "execution_count": 25,
   "metadata": {},
   "outputs": [
    {
     "data": {
      "text/plain": [
       "[0; 1, 6, 1, 1, 136]"
      ]
     },
     "execution_count": 25,
     "metadata": {},
     "output_type": "execute_result"
    }
   ],
   "source": [
    "k=7100;N=8192\n",
    "(k/N).continued_fraction()"
   ]
  },
  {
   "cell_type": "markdown",
   "metadata": {},
   "source": [
    "Find $\\frac{j}{r} \\approx \\frac{k}{N}$ with $r<n$. Leave out the last fraction $\\frac{1}{136}$."
   ]
  },
  {
   "cell_type": "code",
   "execution_count": 26,
   "metadata": {},
   "outputs": [
    {
     "data": {
      "text/plain": [
       "13/15"
      ]
     },
     "execution_count": 26,
     "metadata": {},
     "output_type": "execute_result"
    }
   ],
   "source": [
    "1/(1+1/(6+1/(1+1)))"
   ]
  },
  {
   "cell_type": "markdown",
   "metadata": {},
   "source": [
    "$r$ is probably a multiple of $15$."
   ]
  },
  {
   "cell_type": "code",
   "execution_count": 27,
   "metadata": {},
   "outputs": [
    {
     "data": {
      "text/plain": [
       "34"
      ]
     },
     "execution_count": 27,
     "metadata": {},
     "output_type": "execute_result"
    }
   ],
   "source": [
    "power_mod(a,15,n) # r=15 does not work"
   ]
  },
  {
   "cell_type": "code",
   "execution_count": 28,
   "metadata": {},
   "outputs": [
    {
     "data": {
      "text/plain": [
       "1"
      ]
     },
     "execution_count": 28,
     "metadata": {},
     "output_type": "execute_result"
    }
   ],
   "source": [
    "power_mod(a,30,n) # r=30 works"
   ]
  },
  {
   "cell_type": "markdown",
   "metadata": {},
   "source": [
    "Hence the order of $a$ mod $n$ is $r=30$."
   ]
  },
  {
   "cell_type": "code",
   "execution_count": 29,
   "metadata": {},
   "outputs": [
    {
     "name": "stdout",
     "output_type": "stream",
     "text": [
      "273.066666666667\n"
     ]
    }
   ],
   "source": [
    "r=30; print(RR(N/r))"
   ]
  },
  {
   "cell_type": "markdown",
   "metadata": {},
   "source": [
    "This explains the spectral peaks at approximate multiples of $273$."
   ]
  },
  {
   "cell_type": "markdown",
   "metadata": {},
   "source": [
    "### Exercise 11."
   ]
  },
  {
   "cell_type": "code",
   "execution_count": 30,
   "metadata": {},
   "outputs": [],
   "source": [
    "n=47053; a=11"
   ]
  },
  {
   "cell_type": "code",
   "execution_count": 31,
   "metadata": {},
   "outputs": [
    {
     "name": "stdout",
     "output_type": "stream",
     "text": [
      "7770\n"
     ]
    }
   ],
   "source": [
    "r= mod(a,n).multiplicative_order(); print(r)"
   ]
  },
  {
   "cell_type": "markdown",
   "metadata": {},
   "source": [
    "Suppose $r$ is known and even. Compute $a^{r/2}+1$ mod $n$ to obtain a multiple of one of the factors of $n$."
   ]
  },
  {
   "cell_type": "code",
   "execution_count": 32,
   "metadata": {},
   "outputs": [
    {
     "data": {
      "text/plain": [
       "39248"
      ]
     },
     "execution_count": 32,
     "metadata": {},
     "output_type": "execute_result"
    }
   ],
   "source": [
    "mod(power_mod(a,r//2,n)+1,n)"
   ]
  },
  {
   "cell_type": "code",
   "execution_count": 33,
   "metadata": {},
   "outputs": [
    {
     "data": {
      "text/plain": [
       "223"
      ]
     },
     "execution_count": 33,
     "metadata": {},
     "output_type": "execute_result"
    }
   ],
   "source": [
    "gcd(39248,n)"
   ]
  },
  {
   "cell_type": "markdown",
   "metadata": {},
   "source": [
    "Verify the result."
   ]
  },
  {
   "cell_type": "code",
   "execution_count": 34,
   "metadata": {},
   "outputs": [
    {
     "data": {
      "text/plain": [
       "211 * 223"
      ]
     },
     "execution_count": 34,
     "metadata": {},
     "output_type": "execute_result"
    }
   ],
   "source": [
    "factor(n)"
   ]
  },
  {
   "cell_type": "code",
   "execution_count": 36,
   "metadata": {},
   "outputs": [
    {
     "name": "stdout",
     "output_type": "stream",
     "text": [
      "35\n"
     ]
    }
   ],
   "source": [
    "rp = mod(a,211).multiplicative_order(); print(rp) # order of a mod p is odd"
   ]
  },
  {
   "cell_type": "code",
   "execution_count": 37,
   "metadata": {},
   "outputs": [
    {
     "name": "stdout",
     "output_type": "stream",
     "text": [
      "222\n"
     ]
    }
   ],
   "source": [
    "rq = mod(a,223).multiplicative_order(); print(rq) # order of a mod q is even"
   ]
  }
 ],
 "metadata": {
  "kernelspec": {
   "display_name": "SageMath 9.0",
   "language": "sage",
   "name": "sagemath"
  },
  "language_info": {
   "codemirror_mode": {
    "name": "ipython",
    "version": 3
   },
   "file_extension": ".py",
   "mimetype": "text/x-python",
   "name": "python",
   "nbconvert_exporter": "python",
   "pygments_lexer": "ipython3",
   "version": "3.7.3"
  }
 },
 "nbformat": 4,
 "nbformat_minor": 2
}
