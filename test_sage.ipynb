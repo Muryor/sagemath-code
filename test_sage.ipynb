{
 "cells": [
  {
   "cell_type": "code",
   "execution_count": 3,
   "metadata": {
    "vscode": {
     "languageId": "python"
    }
   },
   "outputs": [],
   "source": [
    "q = (2^61) - 1"
   ]
  },
  {
   "cell_type": "code",
   "execution_count": 2,
   "metadata": {
    "vscode": {
     "languageId": "python"
    }
   },
   "outputs": [
    {
     "data": {
      "text/plain": [
       "True"
      ]
     },
     "execution_count": 2,
     "metadata": {},
     "output_type": "execute_result"
    }
   ],
   "source": [
    "is_prime(q)"
   ]
  },
  {
   "cell_type": "code",
   "execution_count": 1,
   "metadata": {
    "vscode": {
     "languageId": "python"
    }
   },
   "outputs": [
    {
     "data": {
      "text/plain": [
       "False"
      ]
     },
     "execution_count": 1,
     "metadata": {},
     "output_type": "execute_result"
    }
   ],
   "source": [
    "is_prime(2^61)"
   ]
  },
  {
   "cell_type": "code",
   "execution_count": 4,
   "metadata": {
    "vscode": {
     "languageId": "python"
    }
   },
   "outputs": [
    {
     "data": {
      "text/plain": [
       "2305843009213693951"
      ]
     },
     "execution_count": 4,
     "metadata": {},
     "output_type": "execute_result"
    }
   ],
   "source": [
    "factor(q)"
   ]
  },
  {
   "cell_type": "code",
   "execution_count": 6,
   "metadata": {
    "vscode": {
     "languageId": "python"
    }
   },
   "outputs": [
    {
     "ename": "MemoryError",
     "evalue": "failed to allocate 288230376151711784 bytes",
     "output_type": "error",
     "traceback": [
      "\u001b[0;31m---------------------------------------------------------------------------\u001b[0m",
      "\u001b[0;31mMemoryError\u001b[0m                               Traceback (most recent call last)",
      "Cell \u001b[0;32mIn [6], line 1\u001b[0m\n\u001b[0;32m----> 1\u001b[0m factorial(q)\n",
      "File \u001b[0;32m/opt/conda/lib/python3.10/site-packages/sage/symbolic/function.pyx:1026\u001b[0m, in \u001b[0;36msage.symbolic.function.BuiltinFunction.__call__ (build/cythonized/sage/symbolic/function.c:10885)\u001b[0;34m()\u001b[0m\n\u001b[1;32m   1024\u001b[0m if callable(method):\n\u001b[1;32m   1025\u001b[0m     try:\n\u001b[0;32m-> 1026\u001b[0m         res = method(*method_args[1:])\n\u001b[1;32m   1027\u001b[0m     except (TypeError, ValueError, ArithmeticError):\n\u001b[1;32m   1028\u001b[0m         pass\n",
      "File \u001b[0;32m/opt/conda/lib/python3.10/site-packages/sage/rings/integer.pyx:4492\u001b[0m, in \u001b[0;36msage.rings.integer.Integer.factorial (build/cythonized/sage/rings/integer.c:29552)\u001b[0;34m()\u001b[0m\n\u001b[1;32m   4490\u001b[0m cdef Integer z = PY_NEW(Integer)\n\u001b[1;32m   4491\u001b[0m \n\u001b[0;32m-> 4492\u001b[0m sig_on()\n\u001b[1;32m   4493\u001b[0m mpz_fac_ui(z.value, mpz_get_ui(self.value))\n\u001b[1;32m   4494\u001b[0m sig_off()\n",
      "\u001b[0;31mMemoryError\u001b[0m: failed to allocate 288230376151711784 bytes"
     ]
    }
   ],
   "source": [
    "factorial(q)"
   ]
  },
  {
   "cell_type": "code",
   "execution_count": 7,
   "metadata": {
    "vscode": {
     "languageId": "python"
    }
   },
   "outputs": [
    {
     "ename": "SyntaxError",
     "evalue": "invalid syntax (1418258481.py, line 1)",
     "output_type": "error",
     "traceback": [
      "\u001b[0;36m  Cell \u001b[0;32mIn [7], line 1\u001b[0;36m\u001b[0m\n\u001b[0;31m    Integer(100)!\u001b[0m\n\u001b[0m                ^\u001b[0m\n\u001b[0;31mSyntaxError\u001b[0m\u001b[0;31m:\u001b[0m invalid syntax\n"
     ]
    }
   ],
   "source": [
    "100!"
   ]
  },
  {
   "cell_type": "code",
   "execution_count": null,
   "metadata": {
    "vscode": {
     "languageId": "python"
    }
   },
   "outputs": [],
   "source": []
  }
 ],
 "metadata": {
  "kernelspec": {
   "display_name": "SageMath 9.7",
   "language": "sage",
   "name": "sagemath"
  },
  "language_info": {
   "codemirror_mode": {
    "name": "ipython",
    "version": 3
   },
   "file_extension": ".py",
   "mimetype": "text/x-python",
   "name": "sage",
   "nbconvert_exporter": "python",
   "pygments_lexer": "ipython3",
   "version": "3.10.6"
  },
  "orig_nbformat": 4
 },
 "nbformat": 4,
 "nbformat_minor": 2
}
